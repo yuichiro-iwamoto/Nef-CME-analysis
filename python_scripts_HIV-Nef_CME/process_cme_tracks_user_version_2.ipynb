{
 "cells": [
  {
   "cell_type": "code",
   "execution_count": 1,
   "metadata": {},
   "outputs": [],
   "source": [
    "## This Jupyter notebook is intended for use following the processing of raw data \n",
    "# on cmeAnalysis.m (https://github.com/DanuserLab/cmeAnalysis)\n",
    "# (Cyna: I recommend using a stable version with some slight modifications--ping me for a copy (also on lab Drive))\n",
    "\n",
    "# written by Cyna Shirazinejad, Drubin/Barnes Lab\n",
    "\n",
    "# a quick refresher on how to make the most of your Jupyter experience here:\n",
    "# - to run a cell (one of these blocks of code/text), hit shift+return, you'll need to do this in a \n",
    "#    top to bottom fashion more than likely\n",
    "# - to restart everything (in the case of crash or updating Python scripts), select \"Kernel\" up top > restart\n",
    "# - if you're typing in the name of a long variable/function that is already been run in a cell before, \n",
    "#    you can type the first few letters of the variable/function and then hit tab to autofill/recommend the rest"
   ]
  },
  {
   "cell_type": "code",
   "execution_count": 1,
   "metadata": {},
   "outputs": [],
   "source": [
    "#################################################################\n",
    "# MODIFY THE FOLLOWING VARIABLES FOLLOWING THE INSTRUCTIONS BELOW\n",
    "#################################################################\n",
    "\n",
    "# find the location of the \"ProcessedTracks.mat\" (it will be in Ch1/Tracking for the specific experiment)\n",
    "\n",
    "# replace the right hand side of the equal sign of the \"processed_tracks_from_cmeAnalysis_location\" variable\n",
    "# below and make sure it is in single quotation marks\n",
    "# FOR MULTIPLE CELLS/EXPERIMENTS: make a copy of the \"processed_tracks_from_cmeAnalysis_location\" variable\n",
    "#        and rename each one to something specific e.g. for 2 cells processed_tracks_from_cmeAnalysis_location_cell_1\n",
    "#        and processed_tracks_from_cmeAnalysis_location_1\n",
    "#        you will need to do this for every \"ProcessedTracks.mat\" from various experiments you want to merge\n",
    "\n",
    "# processed_tracks_from_cmeAnalysis_location_cell6 = '/Volumes/GoogleDrive/My Drive/Drubin Lab/itsn1_project/organized cells, with analysis files from cmeAnalysis and csvConverter/Meiyan_0205 *USE THIS (2day KD)* *use a combined shRNA 2 and 3*/AP2(TagRFP-T)_Dynamin(TagGFP)/control *cmeAnalysis and csv converter already run*/Cell6_1s/Ch1/Tracking/ProcessedTracks.mat'\n",
    "# processed_tracks_from_cmeAnalysis_location_cell7 = '/Volumes/GoogleDrive/My Drive/Drubin Lab/itsn1_project/organized cells, with analysis files from cmeAnalysis and csvConverter/Meiyan_0205 *USE THIS (2day KD)* *use a combined shRNA 2 and 3*/AP2(TagRFP-T)_Dynamin(TagGFP)/control *cmeAnalysis and csv converter already run*/Cell7_1s/Ch1/Tracking/ProcessedTracks.mat'\n",
    "Day1_0hr_cell0= 'E:/cme_python-scripts/AP2DYNNef_0h/20210331/cell1_2s/Ch1/Tracking/ProcessedTracks.mat'\n",
    "#Day1_0hr_cell1= 'C:\\\\Users\\\\Anna Ye - Maresca La\\\\Desktop\\\\Nefinduction_toquantify\\\\Day1\\\\Track analysis\\\\0hrsorted\\\\cell1_2s\\\\GFP\\\\Tracking\\\\ProcessedTracks.mat'\n",
    "#Day1_0hr_cell2= 'C:\\\\Users\\\\Anna Ye - Maresca La\\\\Desktop\\\\Nefinduction_toquantify\\\\Day1\\\\Track analysis\\\\0hrsorted\\\\cell2_2s\\\\GFP\\\\Tracking\\\\ProcessedTracks.mat'\n",
    "#Day1_0hr_cell3= 'C:\\\\Users\\\\Anna Ye - Maresca La\\\\Desktop\\\\Nefinduction_toquantify\\\\Day1\\\\Track analysis\\\\0hrsorted\\\\cell3_2s\\\\GFP\\\\Tracking\\\\ProcessedTracks.mat'\n",
    "#Day1_0hr_cell4= 'C:\\\\Users\\\\Anna Ye - Maresca La\\\\Desktop\\\\Nefinduction_toquantify\\\\Day1\\\\Track analysis\\\\0hrsorted\\\\cell4_2s\\\\GFP\\\\Tracking\\\\ProcessedTracks.mat'\n",
    "\n",
    "\n",
    "# plotting track colors: for each of your two channels, assign a color for the plots \n",
    "# each function that plots your fluorescence traces will refer to these variables\n",
    "# e.g. if you are using rfp(magenta)/gfp, then:\n",
    "ch1_color = 'm'\n",
    "ch2_color = 'g'"
   ]
  },
  {
   "cell_type": "code",
   "execution_count": 6,
   "metadata": {},
   "outputs": [
    {
     "data": {
      "text/plain": [
       "\u001b[1;31mSignature:\u001b[0m\n",
       "\u001b[0malign_with_optional_scaling\u001b[0m\u001b[1;33m(\u001b[0m\u001b[1;33m\n",
       "\u001b[0m    \u001b[0mtracks\u001b[0m\u001b[1;33m,\u001b[0m\u001b[1;33m\n",
       "\u001b[0m    \u001b[0mch1_color\u001b[0m\u001b[1;33m,\u001b[0m\u001b[1;33m\n",
       "\u001b[0m    \u001b[0mch2_color\u001b[0m\u001b[1;33m,\u001b[0m\u001b[1;33m\n",
       "\u001b[0m    \u001b[0mselected_tracks\u001b[0m\u001b[1;33m,\u001b[0m\u001b[1;33m\n",
       "\u001b[0m    \u001b[0malignment_protocol\u001b[0m\u001b[1;33m=\u001b[0m\u001b[1;34m'maxCh2'\u001b[0m\u001b[1;33m,\u001b[0m\u001b[1;33m\n",
       "\u001b[0m    \u001b[0mscale_to_1\u001b[0m\u001b[1;33m=\u001b[0m\u001b[1;32mFalse\u001b[0m\u001b[1;33m,\u001b[0m\u001b[1;33m\n",
       "\u001b[0m    \u001b[0mpercent_of_max\u001b[0m\u001b[1;33m=\u001b[0m\u001b[1;36m10\u001b[0m\u001b[1;33m,\u001b[0m\u001b[1;33m\n",
       "\u001b[0m    \u001b[0mpadding\u001b[0m\u001b[1;33m=\u001b[0m\u001b[1;32mFalse\u001b[0m\u001b[1;33m,\u001b[0m\u001b[1;33m\n",
       "\u001b[0m    \u001b[0mpadding_amount\u001b[0m\u001b[1;33m=\u001b[0m\u001b[1;36m0\u001b[0m\u001b[1;33m,\u001b[0m\u001b[1;33m\n",
       "\u001b[0m    \u001b[0mdisplay_channels\u001b[0m\u001b[1;33m=\u001b[0m\u001b[1;34m'both'\u001b[0m\u001b[1;33m,\u001b[0m\u001b[1;33m\n",
       "\u001b[0m    \u001b[0mylimits_plot\u001b[0m\u001b[1;33m=\u001b[0m\u001b[1;33m[\u001b[0m\u001b[1;33m-\u001b[0m\u001b[1;36m0.1\u001b[0m\u001b[1;33m,\u001b[0m \u001b[1;36m1.1\u001b[0m\u001b[1;33m]\u001b[0m\u001b[1;33m,\u001b[0m\u001b[1;33m\n",
       "\u001b[0m\u001b[1;33m)\u001b[0m\u001b[1;33m\u001b[0m\u001b[1;33m\u001b[0m\u001b[0m\n",
       "\u001b[1;31mDocstring:\u001b[0m <no docstring>\n",
       "\u001b[1;31mFile:\u001b[0m      c:\\users\\anna ye - maresca la\\desktop\\cmeanalysispostprocessingpythonscripts\\post-processing-wip\\cmeanalysispostprocessingpythonscripts\\alignment_function.py\n",
       "\u001b[1;31mType:\u001b[0m      function\n"
      ]
     },
     "metadata": {},
     "output_type": "display_data"
    }
   ],
   "source": [
    "align_with_optional_scaling?"
   ]
  },
  {
   "cell_type": "code",
   "execution_count": 2,
   "metadata": {},
   "outputs": [
    {
     "ename": "ImportError",
     "evalue": "cannot import name 'display_all_tracks' from 'display_tracks' (C:\\Users\\yuyu2\\Desktop\\cmeAnalysis\\Postprocessing_code\\20210406_cmeAnalysisPostProcessingPythonScripts\\display_tracks.py)",
     "output_type": "error",
     "traceback": [
      "\u001b[1;31m---------------------------------------------------------------------------\u001b[0m",
      "\u001b[1;31mImportError\u001b[0m                               Traceback (most recent call last)",
      "\u001b[1;32m<ipython-input-2-e99e71e0cd12>\u001b[0m in \u001b[0;36m<module>\u001b[1;34m\u001b[0m\n\u001b[0;32m     19\u001b[0m \u001b[1;33m\u001b[0m\u001b[0m\n\u001b[0;32m     20\u001b[0m \u001b[1;31m# import functions to use for visualization/analysis\u001b[0m\u001b[1;33m\u001b[0m\u001b[1;33m\u001b[0m\u001b[1;33m\u001b[0m\u001b[0m\n\u001b[1;32m---> 21\u001b[1;33m \u001b[1;32mfrom\u001b[0m \u001b[0mdisplay_tracks\u001b[0m \u001b[1;32mimport\u001b[0m \u001b[0mdisplay_all_tracks\u001b[0m\u001b[1;33m,\u001b[0m \u001b[0mdisplay_selected_tracks\u001b[0m\u001b[1;33m,\u001b[0m \u001b[0msort_tracks_descending_lifetimes\u001b[0m\u001b[1;33m\u001b[0m\u001b[1;33m\u001b[0m\u001b[0m\n\u001b[0m\u001b[0;32m     22\u001b[0m \u001b[1;32mfrom\u001b[0m \u001b[0mdisplay_tracks\u001b[0m \u001b[1;32mimport\u001b[0m \u001b[0mremove_tracks_by_acceptance\u001b[0m\u001b[1;33m,\u001b[0m \u001b[0mdisplay_one_track\u001b[0m\u001b[1;33m,\u001b[0m \u001b[0mremove_tracks_by_lifetime\u001b[0m\u001b[1;33m\u001b[0m\u001b[1;33m\u001b[0m\u001b[0m\n\u001b[0;32m     23\u001b[0m \u001b[1;32mfrom\u001b[0m \u001b[0mdisplay_tracks\u001b[0m \u001b[1;32mimport\u001b[0m \u001b[0mdisplay_all_tracks_no_constraints\u001b[0m\u001b[1;33m,\u001b[0m \u001b[0mremove_tracks_by_rejection\u001b[0m\u001b[1;33m\u001b[0m\u001b[1;33m\u001b[0m\u001b[0m\n",
      "\u001b[1;31mImportError\u001b[0m: cannot import name 'display_all_tracks' from 'display_tracks' (C:\\Users\\yuyu2\\Desktop\\cmeAnalysis\\Postprocessing_code\\20210406_cmeAnalysisPostProcessingPythonScripts\\display_tracks.py)"
     ]
    }
   ],
   "source": [
    "# no modifications necessary here\n",
    "\n",
    "# import all necessary Python libraries\n",
    "import numpy as np\n",
    "import scipy.io as sio\n",
    "import os\n",
    "import sys\n",
    "import matplotlib.pyplot as plt\n",
    "from matplotlib.pyplot import figure\n",
    "\n",
    "# allow lots of figures\n",
    "plt.rcParams.update({'figure.max_open_warning': 0})\n",
    "%load_ext autoreload\n",
    "%autoreload 2\n",
    "%matplotlib inline\n",
    "\n",
    "# the Python scripts added to the local path\n",
    "sys.path.append(os.path.abspath(os.getcwd()+'/cmeAnalysisPostProcessingPythonScripts'))\n",
    "\n",
    "# import functions to use for visualization/analysis\n",
    "from display_tracks import display_all_tracks, display_selected_tracks, sort_tracks_descending_lifetimes\n",
    "from display_tracks import remove_tracks_by_acceptance, display_one_track, remove_tracks_by_lifetime\n",
    "from display_tracks import display_all_tracks_no_constraints, remove_tracks_by_rejection\n",
    "from alignment_function import align_with_optional_scaling, plot_distance_fluctuations\n",
    "from maximum_intensity_analysis import display_intensity_maxima\n",
    "from lifetime_modification import display_tracks_with_lifetimes\n",
    "from merge_tools import merge_experiments\n",
    "# the Python scripts added to the local path\n",
    "sys.path.append(os.path.abspath(os.getcwd()+'/cmeAnalysisPostProcessingPythonScripts'))\n",
    "\n",
    "# import functions to use for visualization/analysis"
   ]
  },
  {
   "cell_type": "code",
   "execution_count": 3,
   "metadata": {},
   "outputs": [],
   "source": [
    "# load the tracks by calling sio.loadmat(ProcessedTracks_location)\n",
    "# you'll need to do this for every experiment you are importing\n",
    "track_contents_day1_0hr_cell0 = sio.loadmat(Day1_0hr_cell0)\n",
    "#track_contents_day1_0hr_cell1 = sio.loadmat(Day1_0hr_cell1)\n",
    "#track_contents_day1_0hr_cell2 = sio.loadmat(Day1_0hr_cell2)\n",
    "#track_contents_day1_0hr_cell3 = sio.loadmat(Day1_0hr_cell3)\n",
    "#track_contents_day1_0hr_cell4 = sio.loadmat(Day1_0hr_cell4)"
   ]
  },
  {
   "cell_type": "code",
   "execution_count": 4,
   "metadata": {},
   "outputs": [
    {
     "ename": "NameError",
     "evalue": "name 'display_all_tracks' is not defined",
     "output_type": "error",
     "traceback": [
      "\u001b[1;31m---------------------------------------------------------------------------\u001b[0m",
      "\u001b[1;31mNameError\u001b[0m                                 Traceback (most recent call last)",
      "\u001b[1;32m<ipython-input-4-957f9b3bbda1>\u001b[0m in \u001b[0;36m<module>\u001b[1;34m\u001b[0m\n\u001b[0;32m      3\u001b[0m \u001b[1;31m# call as follows: display_all_tracks(track_contents, ch1_color, ch2_color,\u001b[0m\u001b[1;33m\u001b[0m\u001b[1;33m\u001b[0m\u001b[1;33m\u001b[0m\u001b[0m\n\u001b[0;32m      4\u001b[0m \u001b[1;31m#                              lowest_lifetime_accepted, highest_lifetime_accepted)\u001b[0m\u001b[1;33m\u001b[0m\u001b[1;33m\u001b[0m\u001b[1;33m\u001b[0m\u001b[0m\n\u001b[1;32m----> 5\u001b[1;33m \u001b[0mdisplay_all_tracks\u001b[0m\u001b[1;33m(\u001b[0m\u001b[0mtrack_contents_day1_0hr_cell0\u001b[0m\u001b[1;33m,\u001b[0m\u001b[0mch1_color\u001b[0m\u001b[1;33m,\u001b[0m\u001b[0mch2_color\u001b[0m\u001b[1;33m,\u001b[0m\u001b[1;36m10\u001b[0m\u001b[1;33m,\u001b[0m \u001b[1;36m120\u001b[0m\u001b[1;33m)\u001b[0m\u001b[1;33m\u001b[0m\u001b[1;33m\u001b[0m\u001b[0m\n\u001b[0m",
      "\u001b[1;31mNameError\u001b[0m: name 'display_all_tracks' is not defined"
     ]
    }
   ],
   "source": [
    "# view all valid tracks (modify the last 2 arguments (they are in seconds): \n",
    "# minimum lifetime, maximum lifetime in frames [use conservative estimates])\n",
    "# call as follows: display_all_tracks(track_contents, ch1_color, ch2_color, \n",
    "#                              lowest_lifetime_accepted, highest_lifetime_accepted)\n",
    "display_all_tracks(track_contents_day1_0hr_cell0,ch1_color,ch2_color,10, 120)"
   ]
  },
  {
   "cell_type": "code",
   "execution_count": null,
   "metadata": {},
   "outputs": [],
   "source": [
    "# once you've found a suitable upper and lower bounds for lifetimes, you can scrap the tracks that do not fall \n",
    "# in those bounds. call remove_tracks_by_lifetime() the same way as display_all_tracks(), which will\n",
    "# return a new set of tracks. you can override your previous \"track_contents\" by just setting the output equal\n",
    "# to the input you give as the first argument. alternatively, you can rename it as I have in the example below:\n",
    "# \"track_contents_cell6_lifetime_filtered\"\n",
    "\n",
    "# this function will fascilitate easier selection by acceptance or rejection functions that will be called in\n",
    "# an example below\n",
    "\n",
    "track_contents_cell6_lifetime_filtered=remove_tracks_by_lifetime(track_contents_cell6, ch1_color, ch2_color, 50, 150)\n",
    "\n",
    "# if we do not want to further accept/reject tracks, we can just display all of the lifetime filtered tracks \n",
    "# with display_all_tracks_no_constraints(). Pass in track_contents and channel colors\n",
    "# display_all_tracks_no_constraints(track_contents_cell6_lifetime_filtered,ch1_color,ch2_color)"
   ]
  },
  {
   "cell_type": "code",
   "execution_count": null,
   "metadata": {},
   "outputs": [],
   "source": [
    "# plot_distance_fluctuations(track_contents_cell6_lifetime_filtered, ch1_color,ch2_color, range(len(track_contents_cell6_lifetime_filtered['tracks'][0])),1)\n",
    "plot_distance_fluctuations(track_contents_cell6_lifetime_filtered,ch1_color,ch2_color,range(len(track_contents_cell6_lifetime_filtered['tracks'][0])),alignment_protocol = 'maxCh2',percent_of_max = 10,padding_amount = 81,display_channels = 'both',ylimits_plot = [-0.1,2],display_amplitudes=True,show_individual=False,show_average=True )\n",
    "\n"
   ]
  },
  {
   "cell_type": "code",
   "execution_count": null,
   "metadata": {},
   "outputs": [],
   "source": [
    "temp=(1,2)\n",
    "temp[1]"
   ]
  },
  {
   "cell_type": "code",
   "execution_count": null,
   "metadata": {},
   "outputs": [],
   "source": [
    "# select the tracks IDs (as defined by TrackID ABOVE each plot) to keep for further processing as a list\n",
    "# two important Python considerations\n",
    "# Python indices start from 0 (unlike MATLAB where it is 1)\n",
    "# additionally, the usage of range(N) will return a list of numbers from 0 to N-1\n",
    "\n",
    "# therefore, if you would like to keep trackIDs 0-10, you would need to select tracks using range(11) \n",
    "# which is equivalent of range(0,11) where the first entry is redundant and a starting point (included)\n",
    "\n",
    "# say for example you want to keep IDs 0-23\n",
    "selected_tracks_IDs_cell6 = range(24)\n",
    "display_selected_tracks(track_contents_cell6_lifetime_filtered,ch1_color,ch2_color,selected_tracks_IDs_cell6)"
   ]
  },
  {
   "cell_type": "code",
   "execution_count": null,
   "metadata": {},
   "outputs": [],
   "source": [
    "# say for instance you would like to select the following tracks: 0-5, 8, 10, 13, 18-20, and 24\n",
    "# the most straightforward way of doing this can be done by merging lists using *range(). the asterisk\n",
    "# unpacks the values from range() into integers \n",
    "\n",
    "# make the blocks of indices for consecutive integers using *range(),\n",
    "# then make lists of the non-consecutive indices\n",
    "\n",
    "temp1=[*range(6)]\n",
    "temp2=[*range(18,21)]\n",
    "temp3=[8,10,13,24]\n",
    "example_track_indices_to_keep_cell6 = temp1+temp2+temp3\n",
    "print('tracks that will be kept:' + str(example_track_indices_to_keep_cell6))\n",
    "print('the number of tracks that will be kept: ' + str(len(example_track_indices_to_keep_cell6)))\n",
    "print('')\n",
    "track_contents_cell6_filtered_acceptance = remove_tracks_by_acceptance(track_contents_cell6_lifetime_filtered,example_track_indices_to_keep_cell6)\n",
    "display_all_tracks_no_constraints(track_contents_cell6_filtered_acceptance,ch1_color,ch2_color)"
   ]
  },
  {
   "cell_type": "code",
   "execution_count": null,
   "metadata": {},
   "outputs": [],
   "source": [
    "# if instead you want to remove any number of tracks from the set, you can put those trackIDs\n",
    "# into a list and pass it into remove_tracks_by_rejection() with the track_contents\n",
    "\n",
    "# say for example you want to remove from the lifetime filtered tracks the following tracks:\n",
    "# 8, 10-13, 16-18, 23\n",
    "# then make a list that contains these indices\n",
    "temp1= [8,23]\n",
    "temp2 = [*range(10,14)]\n",
    "temp3 = [*range(16,19)]\n",
    "example_indices_to_remove_cell6 = temp1+temp2+temp3\n",
    "print('tracks that will be removed:' + str(example_indices_to_remove_cell6))\n",
    "print('the number of tracks that will be removed: ' + str(len(example_indices_to_remove_cell6)))\n",
    "print('')\n",
    "track_contents_cell6_filtered_rejection = remove_tracks_by_rejection(track_contents_cell6_lifetime_filtered,example_indices_to_remove_cell6)\n",
    "display_all_tracks_no_constraints(track_contents_cell6_filtered_rejection,ch1_color,ch2_color)"
   ]
  },
  {
   "cell_type": "code",
   "execution_count": null,
   "metadata": {},
   "outputs": [],
   "source": [
    "# for the case of the second cell (or more), view the tracks:\n",
    "display_all_tracks(track_contents_cell7,ch1_color,ch2_color,50,150)"
   ]
  },
  {
   "cell_type": "code",
   "execution_count": null,
   "metadata": {},
   "outputs": [],
   "source": [
    "# say we want to just keep track 33 from the example above:\n",
    "selected_track_IDs_cell7 = [33]"
   ]
  },
  {
   "cell_type": "code",
   "execution_count": null,
   "metadata": {},
   "outputs": [],
   "source": [
    "display_selected_tracks(track_contents_cell7,ch1_color,ch2_color,selected_track_IDs_cell7)"
   ]
  },
  {
   "cell_type": "code",
   "execution_count": null,
   "metadata": {},
   "outputs": [],
   "source": [
    "# to merge multiple cells/experiments, fill in the following two variables:\n",
    "# merged_tracks_input, merged_selected_IDs_input \n",
    "# they should both be lists (inside []), and contain the track_contents and selected_IDs of each experiment\n",
    "# additionally, the order of the track_contents should match that of the selected_IDs\n",
    "\n",
    "# if you have a refined track_contents (lifetime and/or acceptance and/or rejection filtered), and \n",
    "# wish to use ALL of the tracks in the refined selection: enter the selected IDs as:\n",
    "# range(len(track_contents_filtered['tracks'][0]))\n",
    "# where track_contents_filtered is your filtered track contents that is outputter from the filtering functions\n",
    "merged_tracks_input = [track_contents_cell6_lifetime_filtered,track_contents_cell7]\n",
    "merged_selected_IDs_input = [range(len(track_contents_cell6_lifetime_filtered['tracks'][0])),selected_track_IDs_cell7]"
   ]
  },
  {
   "cell_type": "code",
   "execution_count": null,
   "metadata": {},
   "outputs": [],
   "source": [
    "merged_tracks = merge_experiments(merged_tracks_input, merged_selected_IDs_input)"
   ]
  },
  {
   "cell_type": "code",
   "execution_count": null,
   "metadata": {
    "scrolled": true
   },
   "outputs": [],
   "source": [
    "# to view the merged tracks, run display_all_tracks()\n",
    "# put the minimum lifetime to 0 and maximum to a big number (10000) so everything gets through\n",
    "display_all_tracks_no_constraints(merged_tracks,ch1_color,ch2_color)"
   ]
  },
  {
   "cell_type": "code",
   "execution_count": null,
   "metadata": {},
   "outputs": [],
   "source": [
    "# align and scale (optional) tracks\n",
    "\n",
    "# options for alignment of the traces per experiment (with variable to pass following description):\n",
    "# 1. [DEFAULT] Maximum in channel 2: \"alignment_protocol = 'maxCh2'\" \n",
    "# 2. Maximum in channel 1: \"alignment_protocol = 'maxCh1'\" \n",
    "# 3. Channel 1 N% of maximum signal before peak: \"alignment_protocol = 'NpercentCh1PriorToPeak'\"\n",
    "# 4. Channel 1 N% of maximum signal after peak: \"alignment_protocol = 'NpercentCh1FollowingPeak'\"\n",
    "# 5. Channel 2 N% of maximum signal before peak: \"alignment_protocol = 'NpercentCh2PriorToPeak'\"\n",
    "# 6. Channel 2 N% of maximum signal after peak: \"alignment_protocol = 'NpercentCh2FollowingPeak'\"\n",
    "\n",
    "# with one additional option to selection of alignment selection for scaling intensities to \n",
    "# maximum of ch1/ch2 in each track\n",
    "# add: scale_to_1 = True\n",
    "# function form and usage:\n",
    "# align_with_optional_scaling(tracks,ch1_color,ch2_color,tracks_to_keep,alignment_protocol='maxCh2',scale_to_1=False,percent_of_max= 10) \n",
    "# ---- \"alignment_protocol = 'maxCh2'\" denotes that 'maxCh2' alignment is the default protocol, which will be used\n",
    "#      if no other argument is passed to the function\n",
    "# ---- \"scaling = 'false'\" denotes that the function will not scale tracks\n",
    "# example 1: to align tracks without scaling with the 1st alignment option, call the following:\n",
    "# ---- align_with_optional_scaling(tracks,index_dictionary,tracks_to_keep)\n",
    "# example 2: to align tracks without scaling with the 2nd alignment option at 10% of ch1 max, call the following:\n",
    "# ---- align_with_optional_scaling(tracks,index_dictionary,tracks_to_keep,alignment_protocol = 'NpercentCh1PriorToPeak',percent_of_max=10)\n",
    "# example 3: to align tracks WITH scaling with the 2nd alignment option at 10% of ch1 max, call the following:\n",
    "# ---- align_with_optional_scaling(tracks,index_dictionary,tracks_to_keep,alignment_protocol = 'NpercentCh1PriorToPeak',scale_to_1 = True,percent_of_max=10)"
   ]
  },
  {
   "cell_type": "code",
   "execution_count": null,
   "metadata": {},
   "outputs": [],
   "source": [
    "# for just one cell/experiment:\n",
    "align_with_optional_scaling(track_contents_cell6_lifetime_filtered,ch1_color,ch2_color,selected_tracks_IDs_cell6,alignment_protocol='NpercentCh1PriorToPeak',scale_to_1=True,percent_of_max= 5,padding=True,padding_amount = 131,display_channels='both',ylimits_plot = [-0.2,1])\n"
   ]
  },
  {
   "cell_type": "code",
   "execution_count": null,
   "metadata": {},
   "outputs": [],
   "source": [
    "# for merged cells/experiments, make one modification:\n",
    "# since \"selected_tracks\" are already performed, all the tracks will be put into the alignment function.\n",
    "# merged tracks are number 0-N, so the selected_tracks variable will be passed as the number of tracks \n",
    "# in merged_tracks. this can be achieved with \"range(len(merged_tracks['tracks'][0]))\" as shown below:\n",
    "align_with_optional_scaling(merged_tracks,ch1_color,ch2_color,range(len(merged_tracks['tracks'][0])),alignment_protocol='maxCh2',scale_to_1=True,percent_of_max= 10)"
   ]
  },
  {
   "cell_type": "code",
   "execution_count": null,
   "metadata": {},
   "outputs": [],
   "source": [
    "# user-defined lifetimes\n",
    "# the \"lifetimes\" printed by the function display_all_tracks() are \n",
    "# not well-defined [track persistance/visibility prior/after peak signal is variable due to uneven \n",
    "# TIRF illumination] for the purposes of analysis, therefore, it is useful to define \n",
    "# new parameters for lifetimes\n",
    "\n",
    "# for instance, it is desirable to define lifetime as the span of time of relative to \n",
    "# the peak fluorescence intensity of either ch1 or ch2 (user chosen), hereon after coined channel_max\n",
    "\n",
    "# concretely, we can define lifetime such that it is the time between N% of channel_max in frames \n",
    "# prior to channel_max, and M% of channel_max following channel_max\n",
    "\n",
    "# because intensity is non-continuous, the two times are approximated as the time such that \n",
    "# the X% of channel_max is closest to the discrete microscope outputs\n",
    "\n",
    "# for the function display_tracks_with_lifetimes(tracks,ch1_color,ch2_color,tracks_to_keep, ...\n",
    "#                        selected_channel = 'ch1', percent_prior = 10, percent_following = 10)\n",
    "# the default channel is 1 with N,M = 10% of the maximum in channel 1 \n",
    "# if you do not put in selected_channel, percent_prior, or percent_following, they will be set to defaults automatically"
   ]
  },
  {
   "cell_type": "code",
   "execution_count": null,
   "metadata": {
    "scrolled": true
   },
   "outputs": [],
   "source": [
    "# display_tracks_with_lifetimes_test(track_contents_cell6_lifetime_filtered,ch1_color,ch2_color,selected_tracks_IDs_cell6,first_selected_channel = 'ch1', second_selected_channel = 'ch1', first_channel_location = 'prior', second_channel_location = 'following', first_percentage_of_max = 10, second_percentage_of_max = 10,print_new_lifetimes = False, first_moving_average = False, first_moving_average_window = 3, second_moving_average=False, second_moving_average_window = 3)\n",
    "\n",
    "\n",
    "display_tracks_with_lifetimes(track_contents_cell6_lifetime_filtered,ch1_color,ch2_color,selected_tracks_IDs_cell6, first_selected_channel = 'ch1', second_selected_channel = 'ch2', first_channel_location = 'prior', second_channel_location = 'following', first_percentage_of_max = 10, second_percentage_of_max = 100,print_new_lifetimes = True, first_moving_average = True, first_moving_average_window = 5, second_moving_average=False, second_moving_average_window = 3)\n",
    "\n",
    "    \n",
    "    "
   ]
  },
  {
   "cell_type": "code",
   "execution_count": null,
   "metadata": {
    "scrolled": true
   },
   "outputs": [],
   "source": [
    "# for merged cells/experiments:\n",
    "display_tracks_with_lifetimes(merged_tracks,ch1_color,ch2_color,range(len(merged_tracks['tracks'][0])))"
   ]
  },
  {
   "cell_type": "code",
   "execution_count": null,
   "metadata": {},
   "outputs": [],
   "source": [
    "# to show maximum intensity in tracks for one cell/experiment:\n",
    "display_intensity_maxima(track_contents_cell6,selected_tracks_IDs_cell6)"
   ]
  },
  {
   "cell_type": "code",
   "execution_count": null,
   "metadata": {},
   "outputs": [],
   "source": [
    "# to show maximum intensity in tracks for merged cells/experiments:\n",
    "display_intensity_maxima(merged_tracks,range(len(merged_tracks['tracks'][0])))"
   ]
  }
 ],
 "metadata": {
  "kernelspec": {
   "display_name": "Python 3",
   "language": "python",
   "name": "python3"
  },
  "language_info": {
   "codemirror_mode": {
    "name": "ipython",
    "version": 3
   },
   "file_extension": ".py",
   "mimetype": "text/x-python",
   "name": "python",
   "nbconvert_exporter": "python",
   "pygments_lexer": "ipython3",
   "version": "3.8.8"
  }
 },
 "nbformat": 4,
 "nbformat_minor": 4
}
